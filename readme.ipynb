{
 "cells": [
  {
   "cell_type": "markdown",
   "source": [
    "Arguments"
   ],
   "metadata": {
    "collapsed": false,
    "pycharm": {
     "name": "#%% md\n"
    }
   }
  },
  {
   "cell_type": "code",
   "execution_count": 1,
   "outputs": [
    {
     "name": "stdout",
     "output_type": "stream",
     "text": [
      "[(('name', 'Ethan'), [])]\n"
     ]
    }
   ],
   "source": [
    "from parser import Argument\n",
    "\n",
    "print(Argument(\"name\").parse([\"Ethan\"]))"
   ],
   "metadata": {
    "collapsed": false,
    "pycharm": {
     "name": "#%%\n"
    }
   }
  },
  {
   "cell_type": "markdown",
   "source": [
    "Flags"
   ],
   "metadata": {
    "collapsed": false
   }
  },
  {
   "cell_type": "code",
   "execution_count": 2,
   "metadata": {
    "collapsed": true
   },
   "outputs": [
    {
     "name": "stdout",
     "output_type": "stream",
     "text": [
      "[(('verbose', True), [])]\n"
     ]
    }
   ],
   "source": [
    "from parser import Flag\n",
    "\n",
    "print(Flag(\"verbose\").parse([\"--verbose\"]))"
   ]
  },
  {
   "cell_type": "markdown",
   "source": [
    "Options"
   ],
   "metadata": {
    "collapsed": false
   }
  },
  {
   "cell_type": "code",
   "execution_count": 3,
   "outputs": [
    {
     "name": "stdout",
     "output_type": "stream",
     "text": [
      "[(('value', 'x'), [])]\n"
     ]
    }
   ],
   "source": [
    "from parser import Option\n",
    "\n",
    "print(Option(\"value\").parse([\"--value\", \"x\"]))"
   ],
   "metadata": {
    "collapsed": false,
    "pycharm": {
     "name": "#%%\n"
    }
   }
  },
  {
   "cell_type": "markdown",
   "source": [
    "Failure"
   ],
   "metadata": {
    "collapsed": false
   }
  },
  {
   "cell_type": "code",
   "execution_count": 4,
   "outputs": [
    {
     "name": "stdout",
     "output_type": "stream",
     "text": [
      "[]\n"
     ]
    }
   ],
   "source": [
    "print(Option(\"value\").parse([\"--value\"]))"
   ],
   "metadata": {
    "collapsed": false,
    "pycharm": {
     "name": "#%%\n"
    }
   }
  },
  {
   "cell_type": "markdown",
   "source": [
    "Alternatives (or \"Sums\")"
   ],
   "metadata": {
    "collapsed": false
   }
  },
  {
   "cell_type": "code",
   "execution_count": 5,
   "outputs": [
    {
     "name": "stdout",
     "output_type": "stream",
     "text": [
      "[(('verbose', True), [])]\n"
     ]
    }
   ],
   "source": [
    "p = Flag(\"verbose\") | Option(\"value\")\n",
    "print(p.parse([\"--verbose\"]))"
   ],
   "metadata": {
    "collapsed": false,
    "pycharm": {
     "name": "#%%\n"
    }
   }
  },
  {
   "cell_type": "code",
   "execution_count": 6,
   "outputs": [
    {
     "name": "stdout",
     "output_type": "stream",
     "text": [
      "[(('value', 'x'), [])]\n"
     ]
    }
   ],
   "source": [
    "print(p.parse([\"--value\", \"x\"]))"
   ],
   "metadata": {
    "collapsed": false,
    "pycharm": {
     "name": "#%%\n"
    }
   }
  },
  {
   "cell_type": "markdown",
   "source": [
    "Sequencing"
   ],
   "metadata": {
    "collapsed": false
   }
  },
  {
   "cell_type": "code",
   "execution_count": 7,
   "outputs": [
    {
     "name": "stdout",
     "output_type": "stream",
     "text": [
      "[([('first', 'a'), ('second', 'b')], [])]\n"
     ]
    }
   ],
   "source": [
    "p = Argument(\"first\") >> Argument(\"second\")\n",
    "print(p.parse([\"a\", \"b\"]))"
   ],
   "metadata": {
    "collapsed": false,
    "pycharm": {
     "name": "#%%\n"
    }
   }
  },
  {
   "cell_type": "markdown",
   "source": [
    "This is shorthand for the following:"
   ],
   "metadata": {
    "collapsed": false
   }
  },
  {
   "cell_type": "code",
   "execution_count": 8,
   "outputs": [
    {
     "name": "stdout",
     "output_type": "stream",
     "text": [
      "[([('first', 'a'), ('second', 'b')], [])]\n"
     ]
    }
   ],
   "source": [
    "from parser import Parser\n",
    "\n",
    "def g():\n",
    "    x1 = yield Argument('first')\n",
    "    x2 = yield Argument('second')\n",
    "    yield Parser.ret([x1, x2])\n",
    "\n",
    "print(Parser.do(g).parse([\"a\", \"b\"]))"
   ],
   "metadata": {
    "collapsed": false,
    "pycharm": {
     "name": "#%%\n"
    }
   }
  },
  {
   "cell_type": "markdown",
   "source": [
    "Variable arguments"
   ],
   "metadata": {
    "collapsed": false
   }
  },
  {
   "cell_type": "code",
   "execution_count": 9,
   "outputs": [
    {
     "name": "stdout",
     "output_type": "stream",
     "text": [
      "[([('many', 'a'), ('many', 'b')], [])]\n"
     ]
    }
   ],
   "source": [
    "p = Argument(\"many\").many()\n",
    "print(p.parse([\"a\", \"b\"]))"
   ],
   "metadata": {
    "collapsed": false,
    "pycharm": {
     "name": "#%%\n"
    }
   }
  },
  {
   "cell_type": "code",
   "execution_count": 10,
   "outputs": [
    {
     "name": "stdout",
     "output_type": "stream",
     "text": [
      "[([('verbose', True), ('quiet', True)], [])]\n"
     ]
    }
   ],
   "source": [
    "p = (Flag(\"verbose\") | Flag(\"quiet\")).many()\n",
    "print(p.parse([\"--verbose\", \"--quiet\"]))"
   ],
   "metadata": {
    "collapsed": false,
    "pycharm": {
     "name": "#%%\n"
    }
   }
  },
  {
   "cell_type": "code",
   "execution_count": 11,
   "outputs": [
    {
     "name": "stdout",
     "output_type": "stream",
     "text": [
      "[([('quiet', True), ('verbose', True)], [])]\n"
     ]
    }
   ],
   "source": [
    "print(p.parse([\"--quiet\", \"--verbose\"]))"
   ],
   "metadata": {
    "collapsed": false,
    "pycharm": {
     "name": "#%%\n"
    }
   }
  },
  {
   "cell_type": "code",
   "execution_count": 12,
   "outputs": [
    {
     "name": "stdout",
     "output_type": "stream",
     "text": [
      "[([('quiet', True)], [])]\n"
     ]
    }
   ],
   "source": [
    "print(p.parse([\"--quiet\"]))"
   ],
   "metadata": {
    "collapsed": false,
    "pycharm": {
     "name": "#%%\n"
    }
   }
  },
  {
   "cell_type": "code",
   "execution_count": 13,
   "outputs": [
    {
     "name": "stdout",
     "output_type": "stream",
     "text": [
      "[([('quiet', True), ('quiet', True), ('quiet', True)], [])]\n"
     ]
    }
   ],
   "source": [
    "print(p.parse([\"--quiet\", \"--quiet\", \"--quiet\"]))"
   ],
   "metadata": {
    "collapsed": false,
    "pycharm": {
     "name": "#%%\n"
    }
   }
  },
  {
   "cell_type": "markdown",
   "source": [
    "Combine sequences and sums"
   ],
   "metadata": {
    "collapsed": false
   }
  },
  {
   "cell_type": "code",
   "execution_count": 14,
   "outputs": [
    {
     "name": "stdout",
     "output_type": "stream",
     "text": [
      "[([('verbose', True), ('a', 'value')], [])]\n"
     ]
    }
   ],
   "source": [
    "p1 = Flag(\"verbose\") | Flag(\"quiet\") | Flag(\"yes\")\n",
    "p = p1 >> Argument(\"a\")\n",
    "print(p.parse([\"--verbose\", \"value\"]))"
   ],
   "metadata": {
    "collapsed": false,
    "pycharm": {
     "name": "#%%\n"
    }
   }
  },
  {
   "cell_type": "markdown",
   "source": [
    "What about doing this many times?"
   ],
   "metadata": {
    "collapsed": false
   }
  },
  {
   "cell_type": "code",
   "execution_count": 15,
   "outputs": [
    {
     "name": "stdout",
     "output_type": "stream",
     "text": [
      "[([[('verbose', True)], ('a', 'value')], [])]\n"
     ]
    }
   ],
   "source": [
    "p2 = p1.many()\n",
    "p = p2 >> Argument(\"a\")\n",
    "print(p.parse([\"--verbose\", \"value\"]))"
   ],
   "metadata": {
    "collapsed": false,
    "pycharm": {
     "name": "#%%\n"
    }
   }
  },
  {
   "cell_type": "markdown",
   "source": [
    "The result is awkwardly nested. To deal with this, we use `Parser.do`:"
   ],
   "metadata": {
    "collapsed": false
   }
  },
  {
   "cell_type": "code",
   "execution_count": 16,
   "outputs": [
    {
     "name": "stdout",
     "output_type": "stream",
     "text": [
      "[([('verbose', True), ('quiet', True), ('a', 'value')], [])]\n"
     ]
    }
   ],
   "source": [
    "def g():\n",
    "    xs = yield p2\n",
    "    x = yield Argument('a')\n",
    "    yield Parser.ret(xs + [x])\n",
    "\n",
    "print(Parser.do(g).parse([\"--verbose\", \"--quiet\", \"value\"]))"
   ],
   "metadata": {
    "collapsed": false,
    "pycharm": {
     "name": "#%%\n"
    }
   }
  },
  {
   "cell_type": "markdown",
   "source": [
    "A common pattern is to alternate checking for positional arguments with checking for non-positional arguments:"
   ],
   "metadata": {
    "collapsed": false
   }
  },
  {
   "cell_type": "code",
   "execution_count": 17,
   "outputs": [
    {
     "name": "stdout",
     "output_type": "stream",
     "text": [
      "[([('first', 'a'), ('verbose', True), ('second', 'b'), ('quiet', True)], [])]\n"
     ]
    }
   ],
   "source": [
    "def g():\n",
    "    xs1 = yield p2\n",
    "    x1 = yield Argument('first')\n",
    "    xs2 = yield p2\n",
    "    x2 = yield Argument('second')\n",
    "    xs3 = yield p2\n",
    "    yield Parser.ret(xs1 + [x1] + xs2  + [x2] + xs3)\n",
    "\n",
    "print(Parser.do(g).parse([\"a\", \"--verbose\", \"b\", \"--quiet\"]))"
   ],
   "metadata": {
    "collapsed": false,
    "pycharm": {
     "name": "#%%\n"
    }
   }
  },
  {
   "cell_type": "markdown",
   "source": [
    "A simpler way to do this is with the `interleave` method:"
   ],
   "metadata": {
    "collapsed": false
   }
  },
  {
   "cell_type": "code",
   "execution_count": 18,
   "outputs": [
    {
     "name": "stdout",
     "output_type": "stream",
     "text": [
      "[([('first', 'a'), ('verbose', True), ('second', 'b'), ('quiet', True)], [])]\n"
     ]
    }
   ],
   "source": [
    "def g():\n",
    "    return (Flag(\"verbose\") | Flag(\"quiet\") | Flag(\"yes\")).interleave(\n",
    "        Argument('first'), Argument('second'))\n",
    "\n",
    "print(Parser.do(g).parse([\"a\", \"--verbose\", \"b\", \"--quiet\"]))"
   ],
   "metadata": {
    "collapsed": false,
    "pycharm": {
     "name": "#%%\n"
    }
   }
  },
  {
   "cell_type": "markdown",
   "source": [
    "or `build`:"
   ],
   "metadata": {
    "collapsed": false
   }
  },
  {
   "cell_type": "code",
   "execution_count": 19,
   "outputs": [
    {
     "name": "stdout",
     "output_type": "stream",
     "text": [
      "[([('first', 'a'), ('verbose', True), ('second', 'b'), ('quiet', True)], [])]\n"
     ]
    }
   ],
   "source": [
    "print(Parser.build(\n",
    "    Flag(\"verbose\") |\n",
    "    Flag(\"quiet\") |\n",
    "    Flag(\"yes\"),\n",
    "    Argument('first'),\n",
    "    Argument('second')\n",
    ").parse([\"a\", \"--verbose\", \"b\", \"--quiet\"]))"
   ],
   "metadata": {
    "collapsed": false,
    "pycharm": {
     "name": "#%%\n"
    }
   }
  }
 ],
 "metadata": {
  "kernelspec": {
   "display_name": "Python 3",
   "language": "python",
   "name": "python3"
  },
  "language_info": {
   "codemirror_mode": {
    "name": "ipython",
    "version": 2
   },
   "file_extension": ".py",
   "mimetype": "text/x-python",
   "name": "python",
   "nbconvert_exporter": "python",
   "pygments_lexer": "ipython2",
   "version": "2.7.6"
  }
 },
 "nbformat": 4,
 "nbformat_minor": 0
}